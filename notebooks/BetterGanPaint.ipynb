{
 "cells": [
  {
   "cell_type": "code",
   "execution_count": 27,
   "metadata": {},
   "outputs": [
    {
     "data": {
      "application/vnd.jupyter.widget-view+json": {
       "model_id": "b094c5ca66d743d78ef091a9d025e813",
       "version_major": 2,
       "version_minor": 0
      },
      "text/plain": [
       "Box(children=(PaintWidget(image='data:image/png;base64,iVBORw0KGgoAAAANSUhEUgAAAQAAAAEACAIAAADTED8xAAEAAElEQVR…"
      ]
     },
     "metadata": {},
     "output_type": "display_data"
    },
    {
     "data": {
      "application/vnd.jupyter.widget-view+json": {
       "model_id": "56f2464364d14a2ba472bf76e05aeb2e",
       "version_major": 2,
       "version_minor": 0
      },
      "text/plain": [
       "Output()"
      ]
     },
     "metadata": {},
     "output_type": "display_data"
    }
   ],
   "source": [
    "import torch\n",
    "from ganpaint import nethook, setting, renormalize, zdataset, widget\n",
    "from ipywidgets import Output, Box, VBox, Button\n",
    "\n",
    "# Load a generator, and paint random image number 20 in a widget.\n",
    "G = nethook.InstrumentedModel(setting.load_proggan('church')).cuda()\n",
    "z = zdataset.z_sample_for_model(G)[20][None].cuda()\n",
    "V = widget.PaintWidget(image=renormalize.as_url(G(z)[0]))\n",
    "\n",
    "# Whenever the widget changes, call \"changed\" to edit the layer and repaint\n",
    "current_mask, current_target = [torch.zeros(1, 512, 8, 8).cuda() for _ in [1,2]]\n",
    "def editrule(x, imodel, **buffers):\n",
    "    global current_mask, current_target\n",
    "    x = x * (1 - current_mask) + current_target * current_mask\n",
    "    return x\n",
    "G.edit_layer('layer4', rule=editrule)\n",
    "\n",
    "colors = [119, 125, 157, 195, 365, 374, 418, 426, 408, 3, 297, 322, 343]\n",
    "selected_units = TREE_UNITS\n",
    "\n",
    "out = Output()\n",
    "\n",
    "def paint(units, value, location):\n",
    "    global current_mask, current_target\n",
    "    paint_mask, target = [torch.zeros(current_mask.shape).cuda() for _ in [1,2]]\n",
    "    paint_mask[:, units] = location\n",
    "    target[:, units] = value\n",
    "    new_mask = (current_mask + paint_mask).clamp(0, 1)\n",
    "    alpha = paint_mask / (new_mask + 1e-10)\n",
    "    new_target = current_target * (1 - alpha) + target * alpha\n",
    "    current_target, current_mask = new_target, new_mask\n",
    "\n",
    "def reset(btn):\n",
    "    global current_mask\n",
    "    current_mask[...] = 0.0\n",
    "\n",
    "def select(btn):\n",
    "    \n",
    "    \n",
    "@out.capture()\n",
    "def changed(c):\n",
    "    if not V.mask: return\n",
    "    a = renormalize.from_url(V.mask, target='pt', size=(8,8))[0][None, None].cuda()\n",
    "    paint(selected_units, 20, a)\n",
    "    V.mask, V.image = '', renormalize.as_url(G(z)[0])\n",
    "V.observe(changed, names='mask')\n",
    "\n",
    "ResetButton = Button(description='Reset')\n",
    "ResetButton.on_click(reset)\n",
    "choices = []\n",
    "for d, u in [('Tree', TREE_UNITS)]:\n",
    "    btn = Button(description=d)\n",
    "    btn.on_click(lambda x: select()\n",
    "          ]\n",
    "\n",
    "\n",
    "display(Box([V, ResetButton ]))\n",
    "display(out)"
   ]
  },
  {
   "cell_type": "code",
   "execution_count": null,
   "metadata": {},
   "outputs": [],
   "source": [
    "V\n"
   ]
  }
 ],
 "metadata": {
  "kernelspec": {
   "display_name": "Python 3",
   "language": "python",
   "name": "python3"
  },
  "language_info": {
   "codemirror_mode": {
    "name": "ipython",
    "version": 3
   },
   "file_extension": ".py",
   "mimetype": "text/x-python",
   "name": "python",
   "nbconvert_exporter": "python",
   "pygments_lexer": "ipython3",
   "version": "3.6.7"
  }
 },
 "nbformat": 4,
 "nbformat_minor": 2
}
