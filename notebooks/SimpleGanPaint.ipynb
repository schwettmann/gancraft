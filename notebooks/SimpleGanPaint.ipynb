{
 "cells": [
  {
   "cell_type": "code",
   "execution_count": 40,
   "metadata": {},
   "outputs": [
    {
     "data": {
      "application/javascript": [
       "\n",
       "require.undef('paint_widget');\n",
       "define('paint_widget', [\"@jupyter-widgets/base\"], function(widgets) {\n",
       "\n",
       "    var PaintView = widgets.DOMWidgetView.extend({\n",
       "\n",
       "        // Render the view.\n",
       "        render: function() {\n",
       "            this.size_changed();\n",
       "            // Python -> JavaScript update\n",
       "            this.model.on('change:mask', this.mask_changed, this);\n",
       "            this.model.on('change:image', this.image_changed, this);\n",
       "            this.model.on('change:width', this.size_changed, this);\n",
       "            this.model.on('change:height', this.size_changed, this);\n",
       "        },\n",
       "        \n",
       "        mouse_stroke: function() {\n",
       "            var self = this;\n",
       "            if (self.model.get('disabled')) { return; }\n",
       "            function track_mouse(evt) {\n",
       "                if (evt.type == 'keydown' || self.model.get('disabled')) {\n",
       "                    console.log(evt);\n",
       "                    if (self.model.get('disabled') || evt.which == 27 ||\n",
       "                             evt.key === \"Escape\") {\n",
       "                        $(window).off('mousemove mouseup keydown', track_mouse);\n",
       "                        self.mask_changed();\n",
       "                    }\n",
       "                    return;\n",
       "                }\n",
       "                if (evt.type == 'mouseup' ||\n",
       "                    (typeof evt.buttons != 'undefined' && evt.buttons == 0)) {\n",
       "                    $(window).off('mousemove mouseup keydown', track_mouse);\n",
       "                    self.model.set('mask', self.mask_canvas.toDataURL());\n",
       "                    self.model.save_changes();\n",
       "                    return;\n",
       "                }\n",
       "                var p = self.cursor_position();\n",
       "                self.fill_circle(p.x, p.y,\n",
       "                    self.model.get('brushsize'),\n",
       "                    self.model.get('erase'));\n",
       "            }\n",
       "            this.mask_canvas.focus();\n",
       "            $(window).on('mousemove mouseup keydown', track_mouse);\n",
       "        },\n",
       "\n",
       "        mask_changed: function(val) {\n",
       "            this.draw_data_url(this.mask_canvas, this.model.get('mask'));\n",
       "        },\n",
       "\n",
       "        image_changed: function() {\n",
       "            this.draw_data_url(this.image_canvas, this.model.get('image'));\n",
       "        },\n",
       "        \n",
       "        size_changed: function() {\n",
       "            this.mask_canvas = document.createElement('canvas');\n",
       "            this.image_canvas = document.createElement('canvas');\n",
       "            for (var attr of ['width', 'height']) {\n",
       "                this.mask_canvas[attr] = this.model.get(attr);\n",
       "                this.image_canvas[attr] = this.model.get(attr);\n",
       "            }\n",
       "            $(this.mask_canvas).css({position: 'absolute', top: 0, left:0,\n",
       "                                    zIndex: '1'});\n",
       "            this.el.innerHTML = '';\n",
       "            this.el.appendChild(this.image_canvas);\n",
       "            this.el.appendChild(this.mask_canvas);\n",
       "            $(this.mask_canvas).on('mousedown', this.mouse_stroke.bind(this));\n",
       "            this.mask_changed();\n",
       "            this.image_changed();\n",
       "        },\n",
       "\n",
       "        cursor_position: function(evt) {\n",
       "            const rect = this.mask_canvas.getBoundingClientRect();\n",
       "            const x = event.clientX - rect.left;\n",
       "            const y = event.clientY - rect.top;\n",
       "            return {x: x, y: y};\n",
       "        },\n",
       "        \n",
       "        fill_circle: function(x, y, r, erase, blur) {\n",
       "            var ctx = this.mask_canvas.getContext('2d');\n",
       "            ctx.save();\n",
       "            if (blur) {\n",
       "                ctx.filter = 'blur(' + blur + 'px)';\n",
       "            }\n",
       "            ctx.globalCompositeOperation = (\n",
       "                erase ? \"destination-out\" : 'source-over');\n",
       "            ctx.fillStyle = '#fff';\n",
       "            ctx.beginPath();\n",
       "            ctx.arc(x, y, r, 0, 2 * Math.PI);\n",
       "            ctx.fill();\n",
       "            ctx.restore()\n",
       "        },\n",
       "        \n",
       "        draw_data_url: function(canvas, durl) {\n",
       "            var ctx = canvas.getContext('2d');\n",
       "            var img = new Image;\n",
       "            $(img).on('load error', function() {\n",
       "                ctx.clearRect(0, 0, canvas.width, canvas.height);\n",
       "                ctx.drawImage(img, 0, 0);\n",
       "            });\n",
       "            img.src = durl;\n",
       "        },\n",
       "        \n",
       "    });\n",
       "\n",
       "    return {\n",
       "        PaintView: PaintView\n",
       "    };\n",
       "});\n"
      ],
      "text/plain": [
       "<IPython.core.display.Javascript object>"
      ]
     },
     "metadata": {},
     "output_type": "display_data"
    },
    {
     "data": {
      "application/vnd.jupyter.widget-view+json": {
       "model_id": "bee9793dc6d64128a9841bdc9d6627fc",
       "version_major": 2,
       "version_minor": 0
      },
      "text/plain": [
       "Output()"
      ]
     },
     "metadata": {},
     "output_type": "display_data"
    },
    {
     "data": {
      "application/vnd.jupyter.widget-view+json": {
       "model_id": "b2da5e09dcce44e4b12ac99b05b75926",
       "version_major": 2,
       "version_minor": 0
      },
      "text/plain": [
       "PaintWidget(image='data:image/png;base64,iVBORw0KGgoAAAANSUhEUgAAAQAAAAEACAIAAADTED8xAAEAAElEQVR4nIz9Z7hlyXUYh…"
      ]
     },
     "metadata": {},
     "output_type": "display_data"
    }
   ],
   "source": [
    "import torch\n",
    "from ganpaint import nethook, setting, renormalize, zdataset, widget\n",
    "from ipywidgets import Output\n",
    "# Load a generator, and paint random image number 20 in a widget.\n",
    "G = nethook.InstrumentedModel(setting.load_proggan('church')).cuda()\n",
    "z = zdataset.z_sample_for_model(G)[60][None].cuda()\n",
    "V = widget.PaintWidget(image=renormalize.as_url(G(z)[0]))\n",
    "\n",
    "# Whenever the widget changes, call \"changed\" to edit the layer and repaint\n",
    "TREE_UNITS = [119, 125, 157, 195, 365, 374, 418, 426, 408, 3, 297, 322, 343]\n",
    "WINDOW_UNITS = [189, 279, 435, 203, 236, 334]\n",
    "GRASS_UNITS = [14, 159, 125, 380]\n",
    "out = Output()\n",
    "display(out)\n",
    "\n",
    "# TREE_UNITS = [119]\n",
    "current_mask = torch.zeros(1, 512)\n",
    "saved_a = None\n",
    "@out.capture()\n",
    "def changed(c):\n",
    "    global saved_a\n",
    "    if not V.mask: return\n",
    "    a = renormalize.from_url(V.mask, target='pt', size=(8,8))[0]\n",
    "    saved_a = a\n",
    "    def editrule(x, imodel, **buffers):\n",
    "        x[:,GRASS_UNITS] += (a * 50.0).to(x.device)\n",
    "        return x\n",
    "    G.edit_layer('layer4', rule=editrule)\n",
    "    V.mask, V.image = '', renormalize.as_url(G(z)[0])\n",
    "    mage = renormalize.as_url(G(z)[0])\n",
    "V.observe(changed, names='mask')\n",
    "\n",
    "display(V)"
   ]
  },
  {
   "cell_type": "code",
   "execution_count": 29,
   "metadata": {},
   "outputs": [
    {
     "data": {
      "text/plain": [
       "tensor([[0., 0., 0., 0., 0., 0., 0., 0.],\n",
       "        [0., 0., 0., 0., 0., 0., 0., 0.],\n",
       "        [0., 0., 0., 0., 0., 0., 0., 0.],\n",
       "        [0., 0., 0., 0., 0., 0., 0., 0.],\n",
       "        [0., 0., 0., 0., 0., 1., 1., 0.],\n",
       "        [0., 0., 0., 0., 0., 1., 1., 0.],\n",
       "        [0., 0., 0., 0., 0., 0., 0., 0.],\n",
       "        [0., 0., 0., 0., 0., 0., 0., 0.]])"
      ]
     },
     "execution_count": 29,
     "metadata": {},
     "output_type": "execute_result"
    }
   ],
   "source": [
    "saved_a"
   ]
  },
  {
   "cell_type": "code",
   "execution_count": null,
   "metadata": {},
   "outputs": [],
   "source": []
  },
  {
   "cell_type": "code",
   "execution_count": 16,
   "metadata": {},
   "outputs": [
    {
     "data": {
      "application/javascript": [
       "\n",
       "require.undef('paint_widget');\n",
       "define('paint_widget', [\"@jupyter-widgets/base\"], function(widgets) {\n",
       "\n",
       "    var PaintView = widgets.DOMWidgetView.extend({\n",
       "\n",
       "        // Render the view.\n",
       "        render: function() {\n",
       "            this.size_changed();\n",
       "            // Python -> JavaScript update\n",
       "            this.model.on('change:mask', this.mask_changed, this);\n",
       "            this.model.on('change:image', this.image_changed, this);\n",
       "            this.model.on('change:width', this.size_changed, this);\n",
       "            this.model.on('change:height', this.size_changed, this);\n",
       "        },\n",
       "        \n",
       "        mouse_stroke: function() {\n",
       "            var self = this;\n",
       "            if (self.model.get('disabled')) { return; }\n",
       "            function track_mouse(evt) {\n",
       "                if (evt.type == 'keydown' || self.model.get('disabled')) {\n",
       "                    console.log(evt);\n",
       "                    if (self.model.get('disabled') || evt.which == 27 ||\n",
       "                             evt.key === \"Escape\") {\n",
       "                        $(window).off('mousemove mouseup keydown', track_mouse);\n",
       "                        self.mask_changed();\n",
       "                    }\n",
       "                    return;\n",
       "                }\n",
       "                if (evt.type == 'mouseup' ||\n",
       "                    (typeof evt.buttons != 'undefined' && evt.buttons == 0)) {\n",
       "                    $(window).off('mousemove mouseup keydown', track_mouse);\n",
       "                    self.model.set('mask', self.mask_canvas.toDataURL());\n",
       "                    self.model.save_changes();\n",
       "                    return;\n",
       "                }\n",
       "                var p = self.cursor_position();\n",
       "                self.fill_circle(p.x, p.y,\n",
       "                    self.model.get('brushsize'),\n",
       "                    self.model.get('erase'));\n",
       "            }\n",
       "            this.mask_canvas.focus();\n",
       "            $(window).on('mousemove mouseup keydown', track_mouse);\n",
       "        },\n",
       "\n",
       "        mask_changed: function(val) {\n",
       "            this.draw_data_url(this.mask_canvas, this.model.get('mask'));\n",
       "        },\n",
       "\n",
       "        image_changed: function() {\n",
       "            this.draw_data_url(this.image_canvas, this.model.get('image'));\n",
       "        },\n",
       "        \n",
       "        size_changed: function() {\n",
       "            this.mask_canvas = document.createElement('canvas');\n",
       "            this.image_canvas = document.createElement('canvas');\n",
       "            for (var attr of ['width', 'height']) {\n",
       "                this.mask_canvas[attr] = this.model.get(attr);\n",
       "                this.image_canvas[attr] = this.model.get(attr);\n",
       "            }\n",
       "            $(this.mask_canvas).css({position: 'absolute', top: 0, left:0,\n",
       "                                    zIndex: '1'});\n",
       "            this.el.innerHTML = '';\n",
       "            this.el.appendChild(this.image_canvas);\n",
       "            this.el.appendChild(this.mask_canvas);\n",
       "            $(this.mask_canvas).on('mousedown', this.mouse_stroke.bind(this));\n",
       "            this.mask_changed();\n",
       "            this.image_changed();\n",
       "        },\n",
       "\n",
       "        cursor_position: function(evt) {\n",
       "            const rect = this.mask_canvas.getBoundingClientRect();\n",
       "            const x = event.clientX - rect.left;\n",
       "            const y = event.clientY - rect.top;\n",
       "            return {x: x, y: y};\n",
       "        },\n",
       "        \n",
       "        fill_circle: function(x, y, r, erase, blur) {\n",
       "            var ctx = this.mask_canvas.getContext('2d');\n",
       "            ctx.save();\n",
       "            if (blur) {\n",
       "                ctx.filter = 'blur(' + blur + 'px)';\n",
       "            }\n",
       "            ctx.globalCompositeOperation = (\n",
       "                erase ? \"destination-out\" : 'source-over');\n",
       "            ctx.fillStyle = '#fff';\n",
       "            ctx.beginPath();\n",
       "            ctx.arc(x, y, r, 0, 2 * Math.PI);\n",
       "            ctx.fill();\n",
       "            ctx.restore()\n",
       "        },\n",
       "        \n",
       "        draw_data_url: function(canvas, durl) {\n",
       "            var ctx = canvas.getContext('2d');\n",
       "            var img = new Image;\n",
       "            $(img).on('load error', function() {\n",
       "                ctx.clearRect(0, 0, canvas.width, canvas.height);\n",
       "                ctx.drawImage(img, 0, 0);\n",
       "            });\n",
       "            img.src = durl;\n",
       "        },\n",
       "        \n",
       "    });\n",
       "\n",
       "    return {\n",
       "        PaintView: PaintView\n",
       "    };\n",
       "});\n"
      ],
      "text/plain": [
       "<IPython.core.display.Javascript object>"
      ]
     },
     "metadata": {},
     "output_type": "display_data"
    },
    {
     "data": {
      "application/vnd.jupyter.widget-view+json": {
       "model_id": "42fa8a11e55147a6be9a24aa1611b316",
       "version_major": 2,
       "version_minor": 0
      },
      "text/plain": [
       "PaintWidget(image='data:image/png;base64,iVBORw0KGgoAAAANSUhEUgAAAQAAAAEACAIAAADTED8xAAEAAElEQVR4nLT9WZMsy5Yeh…"
      ]
     },
     "metadata": {},
     "output_type": "display_data"
    }
   ],
   "source": [
    "import torch\n",
    "from ganpaint import nethook, setting, renormalize, zdataset, widget\n",
    "\n",
    "# Load a generator, and paint random image number 20 in a widget.\n",
    "G = nethook.InstrumentedModel(setting.load_proggan('bedroom')).cuda()\n",
    "z = zdataset.z_sample_for_model(G)[10][None].cuda()\n",
    "V = widget.PaintWidget(image=renormalize.as_url(G(z)[0]))\n",
    "\n",
    "# Whenever the widget changes, call \"changed\" to edit the layer and repaint\n",
    "# TREE_UNITS = [119, 125, 157, 195, 365, 374, 418, 426, 408, 3, 297, 322, 343]\n",
    "# LAMP_UNITS = [136, 502, 4, 462, 206, 287, 222, 163, 58, 182, 432, 231, 494, 449]\n",
    "# LAMP_UNITS = list(range(50,100))\n",
    "LAMP_UNITS = [462]\n",
    "current_mask = torch.zeros(1, 512)\n",
    "def changed(c):\n",
    "    if not V.mask: return\n",
    "    a = renormalize.from_url(V.mask, target='pt', size=(8,8))[0]\n",
    "    def editrule(x, imodel, **buffers):\n",
    "        x[:,LAMP_UNITS] += (a * 50.0).to(x.device)\n",
    "        # x[:,LAMP_UNITS] = x[:,LAMP_UNITS] * (1 - a).to(x.device)\n",
    "        return x\n",
    "    G.edit_layer('layer4', rule=editrule)\n",
    "    V.mask, V.image = '', renormalize.as_url(G(z)[0])\n",
    "V.observe(changed, names='mask')\n",
    "\n",
    "display(V)"
   ]
  },
  {
   "cell_type": "code",
   "execution_count": 12,
   "metadata": {},
   "outputs": [
    {
     "data": {
      "application/vnd.jupyter.widget-view+json": {
       "model_id": "7eceaca321e84731ab46e1bccc39d607",
       "version_major": 2,
       "version_minor": 0
      },
      "text/plain": [
       "PaintWidget(image='data:image/png;base64,iVBORw0KGgoAAAANSUhEUgAAAQAAAAEACAIAAADTED8xAAEAAElEQVR4nGz9aZBlS5Ieh…"
      ]
     },
     "metadata": {},
     "output_type": "display_data"
    }
   ],
   "source": [
    "V\n"
   ]
  }
 ],
 "metadata": {
  "kernelspec": {
   "display_name": "Python 3",
   "language": "python",
   "name": "python3"
  },
  "language_info": {
   "codemirror_mode": {
    "name": "ipython",
    "version": 3
   },
   "file_extension": ".py",
   "mimetype": "text/x-python",
   "name": "python",
   "nbconvert_exporter": "python",
   "pygments_lexer": "ipython3",
   "version": "3.6.7"
  }
 },
 "nbformat": 4,
 "nbformat_minor": 2
}
